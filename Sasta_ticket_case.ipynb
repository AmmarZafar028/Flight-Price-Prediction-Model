{
 "cells": [
  {
   "cell_type": "markdown",
   "metadata": {},
   "source": [
    "# **Data Science Case Study**"
   ]
  },
  {
   "cell_type": "markdown",
   "metadata": {},
   "source": [
    "---"
   ]
  },
  {
   "cell_type": "markdown",
   "metadata": {},
   "source": [
    "---"
   ]
  },
  {
   "cell_type": "markdown",
   "metadata": {},
   "source": [
    "## **Fligh Price Pridiction Model**\n",
    "\n",
    "**Instructions**\\\n",
    "- Ahmed is a customer of Sastaticket.pk. He is planning to fly from Karachi to Islamabad for his\n",
    "brother’s wedding and is currently in the process of choosing tickets. Ahmed has to go to\n",
    "Islamabad but Ahmed also wants to save some money in the process, so he chooses to wait\n",
    "instead of buy now, simply because ticket prices are just too high.\\\n",
    "- Is this the right decision? Won’t ticket prices increase in the future? Perhaps there is a\n",
    "sweet-spot Ahmed is hoping to find and maybe he just might find it.\\\n",
    "- This is the problem that you will be tackling in this competition. Can you predict future prices\n",
    "accurately to such a degree that you can now tell Ahmed - with confidence - that he has made\n",
    "the wrong decision.\\\n",
    "- Your task boils down to generating optimal predictions for flight prices of multiple airlines. If\n",
    "successful, your model will contribute greatly to Sastaticket’s rich and diverse set of operating\n",
    "algorithms.\n",
    "\n",
    "**Summary**\\\n",
    "1. Find Cheapest and expenses flights at specific time.\\\n",
    "2. You have to go through EDA(Exploratory Data Analysis) Process.\\\n",
    "3. Apply an appropriate Machine Learning Model.\\\n",
    "4. Find a sweet spot for cheap ticket"
   ]
  },
  {
   "cell_type": "markdown",
   "metadata": {},
   "source": [
    "### 1. **Doing Exploratory Data Analysis**"
   ]
  },
  {
   "cell_type": "code",
   "execution_count": 1,
   "metadata": {},
   "outputs": [],
   "source": [
    "# Importing Libraries\n",
    "import pandas as pd\n",
    "import seaborn as sns\n",
    "import numpy as np\n",
    "import matplotlib.pyplot as plt"
   ]
  },
  {
   "cell_type": "code",
   "execution_count": 2,
   "metadata": {},
   "outputs": [],
   "source": [
    "# Loading Data_Sets into Data_Frames\n",
    "df=  pd.read_csv('sastaTicket_train.csv')\n",
    "df1= pd.read_csv('sastaticket_test.csv')"
   ]
  },
  {
   "cell_type": "markdown",
   "metadata": {},
   "source": [
    "***Checking Datframe Info.***"
   ]
  },
  {
   "cell_type": "code",
   "execution_count": 3,
   "metadata": {},
   "outputs": [
    {
     "name": "stdout",
     "output_type": "stream",
     "text": [
      "<class 'pandas.core.frame.DataFrame'>\n",
      "RangeIndex: 5000 entries, 0 to 4999\n",
      "Data columns (total 12 columns):\n",
      " #   Column      Non-Null Count  Dtype  \n",
      "---  ------      --------------  -----  \n",
      " 0   Unnamed: 0  5000 non-null   int64  \n",
      " 1   f1          5000 non-null   object \n",
      " 2   f2          5000 non-null   object \n",
      " 3   f3          5000 non-null   object \n",
      " 4   f4          5000 non-null   object \n",
      " 5   f5          5000 non-null   object \n",
      " 6   f6          5000 non-null   object \n",
      " 7   f7          5000 non-null   bool   \n",
      " 8   f8          5000 non-null   float64\n",
      " 9   f9          5000 non-null   int64  \n",
      " 10  f10         5000 non-null   object \n",
      " 11  target      5000 non-null   float64\n",
      "dtypes: bool(1), float64(2), int64(2), object(7)\n",
      "memory usage: 434.7+ KB\n"
     ]
    }
   ],
   "source": [
    "df.info()"
   ]
  },
  {
   "cell_type": "markdown",
   "metadata": {},
   "source": [
    "**Renaming The Columns for Ease**"
   ]
  },
  {
   "cell_type": "code",
   "execution_count": 4,
   "metadata": {},
   "outputs": [],
   "source": [
    "# Renaming Our Columns\n",
    "df.rename({'f1': 'Buying_Time', 'f2': 'Origin' , 'f3':'Destination', 'f4': 'Depart_Time', 'f5':'Arrival_Time' , 'f6':'Airline',\n",
    "        'f7': 'Ticket_Refunded', 'f8':'Bag_Weight', 'f9':'Bag_Pieces' , 'f10':'Airline_No.','target':'Fare'}\n",
    "         , axis=1, inplace=True)\n",
    "df1.rename({'f1': 'Buying_Time', 'f2': 'Origin' , 'f3':'Destination', 'f4': 'Depart_Time', 'f5':'Arrival_Time' , 'f6':'Airline',\n",
    "        'f7': 'Ticket_Refunded', 'f8':'Bag_Weight', 'f9':'Bag_Pieces' , 'f10':'Airline_No.'}\n",
    "         , axis=1, inplace=True)"
   ]
  },
  {
   "cell_type": "markdown",
   "metadata": {},
   "source": [
    "**Dropping Unnecessary Columns**"
   ]
  },
  {
   "cell_type": "code",
   "execution_count": 5,
   "metadata": {},
   "outputs": [],
   "source": [
    "df.drop(['Origin','Destination','Airline_No.','Unnamed: 0'],axis=1,inplace=True)                                          \n",
    "df1.drop(['Origin','Destination','Airline_No.','Unnamed: 0'],axis=1,inplace=True) "
   ]
  },
  {
   "cell_type": "markdown",
   "metadata": {},
   "source": [
    "**Type Casting**"
   ]
  },
  {
   "cell_type": "code",
   "execution_count": 6,
   "metadata": {},
   "outputs": [],
   "source": [
    "df[['Arrival_Time','Depart_Time','Buying_Time']] = df[['Arrival_Time',\"Depart_Time\",'Buying_Time']].apply(pd.to_datetime)\n",
    "df1[['Arrival_Time','Depart_Time','Buying_Time']] = df1[['Arrival_Time',\"Depart_Time\",'Buying_Time']].apply(pd.to_datetime)"
   ]
  },
  {
   "cell_type": "markdown",
   "metadata": {},
   "source": [
    "**Feature Engineering**"
   ]
  },
  {
   "cell_type": "code",
   "execution_count": 7,
   "metadata": {},
   "outputs": [],
   "source": [
    "date_format_string= '%Y/%m/%d %.f'\n",
    "\n",
    "\n",
    "f1= pd.to_datetime(df['Buying_Time'], date_format_string)\n",
    "f2= pd.to_datetime(df['Depart_Time'], date_format_string)\n",
    "f3= pd.to_datetime(df['Arrival_Time'], date_format_string)\n",
    "\n",
    "f11= pd.to_datetime(df1['Buying_Time'], date_format_string)\n",
    "f22= pd.to_datetime(df1['Depart_Time'], date_format_string)\n",
    "f33= pd.to_datetime(df1['Arrival_Time'], date_format_string)\n",
    "\n",
    "\n",
    "    # Feature Engineering\n",
    "diff = f2-f1\n",
    "df['Days_to_Depart'] = diff \n",
    "df['Days_to_Depart'] = df['Days_to_Depart'].dt.days.values\n",
    "\n",
    "df['hrs_to_Depart'] = diff \n",
    "df['hrs_to_Depart'] = df['hrs_to_Depart'].dt.components['hours']\n",
    "\n",
    "\n",
    "df['min_to_Depart'] = diff \n",
    "df['min_to_Depart'] = df['min_to_Depart'].dt.components['minutes']\n",
    "\n",
    "\n",
    "\n",
    "    # Feature Engineering\n",
    "diff1 = f22-f11\n",
    "df1['Days_to_Depart'] = diff \n",
    "df1['Days_to_Depart'] = df1['Days_to_Depart'].dt.days.values\n",
    "\n",
    "df1['hrs_to_Depart'] = diff \n",
    "df1['hrs_to_Depart'] = df1['hrs_to_Depart'].dt.components['hours']\n",
    "\n",
    "\n",
    "df1['min_to_Depart'] = diff \n",
    "df1['min_to_Depart'] = df1['min_to_Depart'].dt.components['minutes']\n"
   ]
  },
  {
   "cell_type": "markdown",
   "metadata": {},
   "source": [
    "**Again Dropping unuseful columns**"
   ]
  },
  {
   "cell_type": "code",
   "execution_count": 8,
   "metadata": {},
   "outputs": [],
   "source": [
    "df.drop(['Buying_Time','Depart_Time','Arrival_Time'],axis=1,inplace=True)      # Again Removing Unnecssary Columns\n",
    "df1.drop(['Buying_Time','Depart_Time','Arrival_Time','hrs_to_Depart','min_to_Depart'],axis=1,inplace=True)"
   ]
  },
  {
   "cell_type": "markdown",
   "metadata": {},
   "source": [
    "### 2. **Doing Statistical Analysis**"
   ]
  },
  {
   "cell_type": "markdown",
   "metadata": {},
   "source": [
    "**Checking Missing Values**"
   ]
  },
  {
   "cell_type": "code",
   "execution_count": 10,
   "metadata": {},
   "outputs": [
    {
     "data": {
      "text/plain": [
       "Airline            0\n",
       "Ticket_Refunded    0\n",
       "Bag_Weight         0\n",
       "Bag_Pieces         0\n",
       "Fare               0\n",
       "Days_to_Depart     0\n",
       "hrs_to_Depart      0\n",
       "min_to_Depart      0\n",
       "dtype: int64"
      ]
     },
     "execution_count": 10,
     "metadata": {},
     "output_type": "execute_result"
    }
   ],
   "source": [
    "df.isnull().sum()"
   ]
  },
  {
   "cell_type": "code",
   "execution_count": 11,
   "metadata": {},
   "outputs": [
    {
     "data": {
      "text/html": [
       "<div>\n",
       "<style scoped>\n",
       "    .dataframe tbody tr th:only-of-type {\n",
       "        vertical-align: middle;\n",
       "    }\n",
       "\n",
       "    .dataframe tbody tr th {\n",
       "        vertical-align: top;\n",
       "    }\n",
       "\n",
       "    .dataframe thead th {\n",
       "        text-align: right;\n",
       "    }\n",
       "</style>\n",
       "<table border=\"1\" class=\"dataframe\">\n",
       "  <thead>\n",
       "    <tr style=\"text-align: right;\">\n",
       "      <th></th>\n",
       "      <th>Airline</th>\n",
       "      <th>Ticket_Refunded</th>\n",
       "      <th>Bag_Weight</th>\n",
       "      <th>Bag_Pieces</th>\n",
       "      <th>Fare</th>\n",
       "      <th>Days_to_Depart</th>\n",
       "      <th>hrs_to_Depart</th>\n",
       "      <th>min_to_Depart</th>\n",
       "    </tr>\n",
       "  </thead>\n",
       "  <tbody>\n",
       "    <tr>\n",
       "      <th>count</th>\n",
       "      <td>5000</td>\n",
       "      <td>5000</td>\n",
       "      <td>5000.000000</td>\n",
       "      <td>5000.000000</td>\n",
       "      <td>5000.000000</td>\n",
       "      <td>5000.000000</td>\n",
       "      <td>5000.00000</td>\n",
       "      <td>5000.000000</td>\n",
       "    </tr>\n",
       "    <tr>\n",
       "      <th>unique</th>\n",
       "      <td>4</td>\n",
       "      <td>2</td>\n",
       "      <td>NaN</td>\n",
       "      <td>NaN</td>\n",
       "      <td>NaN</td>\n",
       "      <td>NaN</td>\n",
       "      <td>NaN</td>\n",
       "      <td>NaN</td>\n",
       "    </tr>\n",
       "    <tr>\n",
       "      <th>top</th>\n",
       "      <td>alpha</td>\n",
       "      <td>True</td>\n",
       "      <td>NaN</td>\n",
       "      <td>NaN</td>\n",
       "      <td>NaN</td>\n",
       "      <td>NaN</td>\n",
       "      <td>NaN</td>\n",
       "      <td>NaN</td>\n",
       "    </tr>\n",
       "    <tr>\n",
       "      <th>freq</th>\n",
       "      <td>2211</td>\n",
       "      <td>4968</td>\n",
       "      <td>NaN</td>\n",
       "      <td>NaN</td>\n",
       "      <td>NaN</td>\n",
       "      <td>NaN</td>\n",
       "      <td>NaN</td>\n",
       "      <td>NaN</td>\n",
       "    </tr>\n",
       "    <tr>\n",
       "      <th>mean</th>\n",
       "      <td>NaN</td>\n",
       "      <td>NaN</td>\n",
       "      <td>22.727400</td>\n",
       "      <td>0.944000</td>\n",
       "      <td>10084.847000</td>\n",
       "      <td>14.971600</td>\n",
       "      <td>11.84600</td>\n",
       "      <td>29.700000</td>\n",
       "    </tr>\n",
       "    <tr>\n",
       "      <th>std</th>\n",
       "      <td>NaN</td>\n",
       "      <td>NaN</td>\n",
       "      <td>8.902075</td>\n",
       "      <td>0.606084</td>\n",
       "      <td>3374.189875</td>\n",
       "      <td>18.918498</td>\n",
       "      <td>7.27294</td>\n",
       "      <td>17.462812</td>\n",
       "    </tr>\n",
       "    <tr>\n",
       "      <th>min</th>\n",
       "      <td>NaN</td>\n",
       "      <td>NaN</td>\n",
       "      <td>0.000000</td>\n",
       "      <td>0.000000</td>\n",
       "      <td>4990.000000</td>\n",
       "      <td>0.000000</td>\n",
       "      <td>0.00000</td>\n",
       "      <td>0.000000</td>\n",
       "    </tr>\n",
       "    <tr>\n",
       "      <th>25%</th>\n",
       "      <td>NaN</td>\n",
       "      <td>NaN</td>\n",
       "      <td>20.000000</td>\n",
       "      <td>1.000000</td>\n",
       "      <td>7796.000000</td>\n",
       "      <td>4.000000</td>\n",
       "      <td>5.00000</td>\n",
       "      <td>14.000000</td>\n",
       "    </tr>\n",
       "    <tr>\n",
       "      <th>50%</th>\n",
       "      <td>NaN</td>\n",
       "      <td>NaN</td>\n",
       "      <td>20.000000</td>\n",
       "      <td>1.000000</td>\n",
       "      <td>9150.000000</td>\n",
       "      <td>10.000000</td>\n",
       "      <td>12.00000</td>\n",
       "      <td>30.000000</td>\n",
       "    </tr>\n",
       "    <tr>\n",
       "      <th>75%</th>\n",
       "      <td>NaN</td>\n",
       "      <td>NaN</td>\n",
       "      <td>32.000000</td>\n",
       "      <td>1.000000</td>\n",
       "      <td>11245.000000</td>\n",
       "      <td>19.000000</td>\n",
       "      <td>18.00000</td>\n",
       "      <td>45.000000</td>\n",
       "    </tr>\n",
       "    <tr>\n",
       "      <th>max</th>\n",
       "      <td>NaN</td>\n",
       "      <td>NaN</td>\n",
       "      <td>45.000000</td>\n",
       "      <td>2.000000</td>\n",
       "      <td>35000.000000</td>\n",
       "      <td>243.000000</td>\n",
       "      <td>23.00000</td>\n",
       "      <td>59.000000</td>\n",
       "    </tr>\n",
       "  </tbody>\n",
       "</table>\n",
       "</div>"
      ],
      "text/plain": [
       "       Airline Ticket_Refunded   Bag_Weight   Bag_Pieces          Fare  \\\n",
       "count     5000            5000  5000.000000  5000.000000   5000.000000   \n",
       "unique       4               2          NaN          NaN           NaN   \n",
       "top      alpha            True          NaN          NaN           NaN   \n",
       "freq      2211            4968          NaN          NaN           NaN   \n",
       "mean       NaN             NaN    22.727400     0.944000  10084.847000   \n",
       "std        NaN             NaN     8.902075     0.606084   3374.189875   \n",
       "min        NaN             NaN     0.000000     0.000000   4990.000000   \n",
       "25%        NaN             NaN    20.000000     1.000000   7796.000000   \n",
       "50%        NaN             NaN    20.000000     1.000000   9150.000000   \n",
       "75%        NaN             NaN    32.000000     1.000000  11245.000000   \n",
       "max        NaN             NaN    45.000000     2.000000  35000.000000   \n",
       "\n",
       "        Days_to_Depart  hrs_to_Depart  min_to_Depart  \n",
       "count      5000.000000     5000.00000    5000.000000  \n",
       "unique             NaN            NaN            NaN  \n",
       "top                NaN            NaN            NaN  \n",
       "freq               NaN            NaN            NaN  \n",
       "mean         14.971600       11.84600      29.700000  \n",
       "std          18.918498        7.27294      17.462812  \n",
       "min           0.000000        0.00000       0.000000  \n",
       "25%           4.000000        5.00000      14.000000  \n",
       "50%          10.000000       12.00000      30.000000  \n",
       "75%          19.000000       18.00000      45.000000  \n",
       "max         243.000000       23.00000      59.000000  "
      ]
     },
     "execution_count": 11,
     "metadata": {},
     "output_type": "execute_result"
    }
   ],
   "source": [
    "df.describe(include='all')"
   ]
  },
  {
   "cell_type": "markdown",
   "metadata": {},
   "source": [
    "**Dropping Duplicate Values**"
   ]
  },
  {
   "cell_type": "code",
   "execution_count": null,
   "metadata": {},
   "outputs": [],
   "source": [
    "df.drop_duplicates(keep=False,inplace=True)"
   ]
  },
  {
   "cell_type": "markdown",
   "metadata": {},
   "source": [
    "#### ***Making list of Categorical Column and Numerical Ones***"
   ]
  },
  {
   "cell_type": "code",
   "execution_count": 12,
   "metadata": {},
   "outputs": [],
   "source": [
    "cat_cols= ['Airline','Ticket_Refunded','Bag_Weight','Bag_Pieces']\n",
    "num_cols= ['Days_to_Depart','hrs_to_Depart','min_to_Depart']"
   ]
  },
  {
   "cell_type": "markdown",
   "metadata": {},
   "source": [
    "### 3. ***PLOTTING***"
   ]
  },
  {
   "cell_type": "code",
   "execution_count": 13,
   "metadata": {},
   "outputs": [
    {
     "name": "stderr",
     "output_type": "stream",
     "text": [
      "C:\\Users\\DELL\\anaconda3\\lib\\site-packages\\seaborn\\_decorators.py:36: FutureWarning: Pass the following variable as a keyword arg: x. From version 0.12, the only valid positional argument will be `data`, and passing other arguments without an explicit keyword will result in an error or misinterpretation.\n",
      "  warnings.warn(\n",
      "C:\\Users\\DELL\\anaconda3\\lib\\site-packages\\seaborn\\_decorators.py:36: FutureWarning: Pass the following variable as a keyword arg: x. From version 0.12, the only valid positional argument will be `data`, and passing other arguments without an explicit keyword will result in an error or misinterpretation.\n",
      "  warnings.warn(\n",
      "C:\\Users\\DELL\\anaconda3\\lib\\site-packages\\seaborn\\_decorators.py:36: FutureWarning: Pass the following variable as a keyword arg: x. From version 0.12, the only valid positional argument will be `data`, and passing other arguments without an explicit keyword will result in an error or misinterpretation.\n",
      "  warnings.warn(\n",
      "C:\\Users\\DELL\\anaconda3\\lib\\site-packages\\seaborn\\_decorators.py:36: FutureWarning: Pass the following variable as a keyword arg: x. From version 0.12, the only valid positional argument will be `data`, and passing other arguments without an explicit keyword will result in an error or misinterpretation.\n",
      "  warnings.warn(\n"
     ]
    },
    {
     "data": {
      "image/png": "[encoded data removed]",
      "text/plain": [
       "<Figure size 720x2160 with 4 Axes>"
      ]
     },
     "metadata": {
      "needs_background": "light"
     },
     "output_type": "display_data"
    }
   ],
   "source": [
    "plt.figure (figsize=(10,30))                        # Categorical Count Plotting\n",
    "c=1\n",
    "for i in cat_cols:\n",
    "    plt.subplot(6,2,c)\n",
    "    sns.countplot(df[i])                \n",
    "    c=c+1\n",
    "plt.show()\n"
   ]
  },
  {
   "cell_type": "markdown",
   "metadata": {},
   "source": [
    "Results:\\\n",
    "    1. **Alpha** has higher number of flights\\\n",
    "    2. Mostly Tickets are Refund-able\\\n",
    "    3. Most Passengers have 2 piece of Bag and the avg weight is 20."
   ]
  },
  {
   "cell_type": "code",
   "execution_count": 14,
   "metadata": {},
   "outputs": [
    {
     "name": "stderr",
     "output_type": "stream",
     "text": [
      "C:\\Users\\DELL\\anaconda3\\lib\\site-packages\\seaborn\\distributions.py:2619: FutureWarning: `distplot` is a deprecated function and will be removed in a future version. Please adapt your code to use either `displot` (a figure-level function with similar flexibility) or `histplot` (an axes-level function for histograms).\n",
      "  warnings.warn(msg, FutureWarning)\n",
      "C:\\Users\\DELL\\anaconda3\\lib\\site-packages\\seaborn\\distributions.py:2619: FutureWarning: `distplot` is a deprecated function and will be removed in a future version. Please adapt your code to use either `displot` (a figure-level function with similar flexibility) or `histplot` (an axes-level function for histograms).\n",
      "  warnings.warn(msg, FutureWarning)\n",
      "C:\\Users\\DELL\\anaconda3\\lib\\site-packages\\seaborn\\distributions.py:2619: FutureWarning: `distplot` is a deprecated function and will be removed in a future version. Please adapt your code to use either `displot` (a figure-level function with similar flexibility) or `histplot` (an axes-level function for histograms).\n",
      "  warnings.warn(msg, FutureWarning)\n"
     ]
    },
    {
     "data": {
      "image/png": "[encoded data removed]",
      "text/plain": [
       "<Figure size 720x2520 with 3 Axes>"
      ]
     },
     "metadata": {
      "needs_background": "light"
     },
     "output_type": "display_data"
    }
   ],
   "source": [
    "plt.figure (figsize=(10,35))                        # Numerical Count Plotting\n",
    "c=1\n",
    "for i in num_cols:\n",
    "    plt.subplot(6,2,c)\n",
    "    sns.distplot(df[i])                \n",
    "    c=c+1\n",
    "plt.show()"
   ]
  },
  {
   "cell_type": "code",
   "execution_count": 15,
   "metadata": {},
   "outputs": [
    {
     "name": "stderr",
     "output_type": "stream",
     "text": [
      "C:\\Users\\DELL\\anaconda3\\lib\\site-packages\\seaborn\\distributions.py:2619: FutureWarning: `distplot` is a deprecated function and will be removed in a future version. Please adapt your code to use either `displot` (a figure-level function with similar flexibility) or `histplot` (an axes-level function for histograms).\n",
      "  warnings.warn(msg, FutureWarning)\n"
     ]
    },
    {
     "data": {
      "text/plain": [
       "<AxesSubplot:xlabel='Fare', ylabel='Density'>"
      ]
     },
     "execution_count": 15,
     "metadata": {},
     "output_type": "execute_result"
    },
    {
     "data": {
      "image/png": "[encoded data removed]",
      "text/plain": [
       "<Figure size 432x288 with 1 Axes>"
      ]
     },
     "metadata": {
      "needs_background": "light"
     },
     "output_type": "display_data"
    }
   ],
   "source": [
    "sns.distplot(df['Fare'])"
   ]
  },
  {
   "cell_type": "markdown",
   "metadata": {},
   "source": [
    "Result: *Looks Left Skewed.*"
   ]
  },
  {
   "cell_type": "markdown",
   "metadata": {},
   "source": [
    "### 4 **Normalization Test**"
   ]
  },
  {
   "cell_type": "code",
   "execution_count": 17,
   "metadata": {},
   "outputs": [
    {
     "name": "stdout",
     "output_type": "stream",
     "text": [
      "stat = 0.823 , p-value=0.000\n",
      "H0: Probably NO Gaussian or Normal distribution\n"
     ]
    }
   ],
   "source": [
    "# Importing Library\n",
    "from scipy.stats import shapiro\n",
    "\n",
    "stat, p = shapiro(df['Fare'])\n",
    "\n",
    "print (\"stat = %.3f , p-value=%.3f\" %(stat,p))\n",
    "\n",
    "if p > 0.05:\n",
    "    print('H1: Probably Gaussian or Normal distribution')\n",
    "else:\n",
    "    print('H0: Probably NO Gaussian or Normal distribution')"
   ]
  },
  {
   "cell_type": "markdown",
   "metadata": {},
   "source": [
    "**Normalizing The Data**"
   ]
  },
  {
   "cell_type": "code",
   "execution_count": 18,
   "metadata": {},
   "outputs": [
    {
     "data": {
      "text/html": [
       "<div>\n",
       "<style scoped>\n",
       "    .dataframe tbody tr th:only-of-type {\n",
       "        vertical-align: middle;\n",
       "    }\n",
       "\n",
       "    .dataframe tbody tr th {\n",
       "        vertical-align: top;\n",
       "    }\n",
       "\n",
       "    .dataframe thead th {\n",
       "        text-align: right;\n",
       "    }\n",
       "</style>\n",
       "<table border=\"1\" class=\"dataframe\">\n",
       "  <thead>\n",
       "    <tr style=\"text-align: right;\">\n",
       "      <th></th>\n",
       "      <th>Airline</th>\n",
       "      <th>Ticket_Refunded</th>\n",
       "      <th>Bag_Weight</th>\n",
       "      <th>Bag_Pieces</th>\n",
       "      <th>Fare</th>\n",
       "      <th>Days_to_Depart</th>\n",
       "      <th>hrs_to_Depart</th>\n",
       "      <th>min_to_Depart</th>\n",
       "    </tr>\n",
       "  </thead>\n",
       "  <tbody>\n",
       "    <tr>\n",
       "      <th>0</th>\n",
       "      <td>alpha</td>\n",
       "      <td>True</td>\n",
       "      <td>35.0</td>\n",
       "      <td>1</td>\n",
       "      <td>9.591854</td>\n",
       "      <td>8</td>\n",
       "      <td>1</td>\n",
       "      <td>7</td>\n",
       "    </tr>\n",
       "    <tr>\n",
       "      <th>1</th>\n",
       "      <td>alpha</td>\n",
       "      <td>True</td>\n",
       "      <td>35.0</td>\n",
       "      <td>1</td>\n",
       "      <td>9.180603</td>\n",
       "      <td>11</td>\n",
       "      <td>20</td>\n",
       "      <td>48</td>\n",
       "    </tr>\n",
       "    <tr>\n",
       "      <th>2</th>\n",
       "      <td>beta</td>\n",
       "      <td>True</td>\n",
       "      <td>20.0</td>\n",
       "      <td>0</td>\n",
       "      <td>8.814925</td>\n",
       "      <td>17</td>\n",
       "      <td>21</td>\n",
       "      <td>7</td>\n",
       "    </tr>\n",
       "    <tr>\n",
       "      <th>3</th>\n",
       "      <td>gamma</td>\n",
       "      <td>True</td>\n",
       "      <td>20.0</td>\n",
       "      <td>1</td>\n",
       "      <td>9.354008</td>\n",
       "      <td>21</td>\n",
       "      <td>5</td>\n",
       "      <td>53</td>\n",
       "    </tr>\n",
       "    <tr>\n",
       "      <th>4</th>\n",
       "      <td>gamma</td>\n",
       "      <td>True</td>\n",
       "      <td>32.0</td>\n",
       "      <td>1</td>\n",
       "      <td>9.175231</td>\n",
       "      <td>1</td>\n",
       "      <td>1</td>\n",
       "      <td>21</td>\n",
       "    </tr>\n",
       "  </tbody>\n",
       "</table>\n",
       "</div>"
      ],
      "text/plain": [
       "  Airline  Ticket_Refunded  Bag_Weight  Bag_Pieces      Fare  Days_to_Depart  \\\n",
       "0   alpha             True        35.0           1  9.591854               8   \n",
       "1   alpha             True        35.0           1  9.180603              11   \n",
       "2    beta             True        20.0           0  8.814925              17   \n",
       "3   gamma             True        20.0           1  9.354008              21   \n",
       "4   gamma             True        32.0           1  9.175231               1   \n",
       "\n",
       "   hrs_to_Depart  min_to_Depart  \n",
       "0              1              7  \n",
       "1             20             48  \n",
       "2             21              7  \n",
       "3              5             53  \n",
       "4              1             21  "
      ]
     },
     "execution_count": 18,
     "metadata": {},
     "output_type": "execute_result"
    }
   ],
   "source": [
    "df['Fare']=np.log(df['Fare'])\n",
    "\n",
    "# df['Days_to_Depart'] = (df['Days_to_Depart']-df['Days_to_Depart'].mean()) / df['Days_to_Depart'].std()\n",
    "# df['hrs_to_Depart']=    (df['hrs_to_Depart']-df['hrs_to_Depart'].mean()) / df['hrs_to_Depart'].std()\n",
    "# df['Bag_Weight']=   (df['Bag_Weight']-df['Bag_Weight'].mean()) / df['Bag_Weight'].std()\n",
    "# df['Fare'] = (df['Fare']-df['Fare'].mean()) / df['Fare'].std()\n",
    "# df['min_to_Depart']= (df['min_to_Depart']-df['min_to_Depart'].mean()) / df['min_to_Depart'].std()\n",
    "df.head(5)"
   ]
  },
  {
   "cell_type": "markdown",
   "metadata": {},
   "source": [
    "#### ***Checking Outliers and removing them on percentage basis***"
   ]
  },
  {
   "cell_type": "code",
   "execution_count": 19,
   "metadata": {},
   "outputs": [
    {
     "name": "stderr",
     "output_type": "stream",
     "text": [
      "C:\\Users\\DELL\\anaconda3\\lib\\site-packages\\seaborn\\_decorators.py:36: FutureWarning: Pass the following variable as a keyword arg: x. From version 0.12, the only valid positional argument will be `data`, and passing other arguments without an explicit keyword will result in an error or misinterpretation.\n",
      "  warnings.warn(\n"
     ]
    },
    {
     "data": {
      "text/plain": [
       "<AxesSubplot:xlabel='Days_to_Depart'>"
      ]
     },
     "execution_count": 19,
     "metadata": {},
     "output_type": "execute_result"
    },
    {
     "data": {
      "image/png": "[encoded data removed]",
      "text/plain": [
       "<Figure size 432x288 with 1 Axes>"
      ]
     },
     "metadata": {
      "needs_background": "light"
     },
     "output_type": "display_data"
    }
   ],
   "source": [
    "sns.boxplot(df['Days_to_Depart'])"
   ]
  },
  {
   "cell_type": "code",
   "execution_count": 20,
   "metadata": {},
   "outputs": [],
   "source": [
    "df = df[df['Days_to_Depart'] < 60]              # Removing Days to depart a Flight as there less numbers that buy tickets way before the flight Depart"
   ]
  },
  {
   "cell_type": "code",
   "execution_count": 21,
   "metadata": {},
   "outputs": [
    {
     "name": "stderr",
     "output_type": "stream",
     "text": [
      "C:\\Users\\DELL\\anaconda3\\lib\\site-packages\\seaborn\\_decorators.py:36: FutureWarning: Pass the following variable as a keyword arg: x. From version 0.12, the only valid positional argument will be `data`, and passing other arguments without an explicit keyword will result in an error or misinterpretation.\n",
      "  warnings.warn(\n"
     ]
    },
    {
     "data": {
      "text/plain": [
       "<AxesSubplot:xlabel='Days_to_Depart'>"
      ]
     },
     "execution_count": 21,
     "metadata": {},
     "output_type": "execute_result"
    },
    {
     "data": {
      "image/png": "[encoded data removed]",
      "text/plain": [
       "<Figure size 432x288 with 1 Axes>"
      ]
     },
     "metadata": {
      "needs_background": "light"
     },
     "output_type": "display_data"
    }
   ],
   "source": [
    "sns.boxplot(df['Days_to_Depart'])"
   ]
  },
  {
   "cell_type": "code",
   "execution_count": 22,
   "metadata": {},
   "outputs": [
    {
     "name": "stderr",
     "output_type": "stream",
     "text": [
      "C:\\Users\\DELL\\anaconda3\\lib\\site-packages\\seaborn\\_decorators.py:36: FutureWarning: Pass the following variable as a keyword arg: x. From version 0.12, the only valid positional argument will be `data`, and passing other arguments without an explicit keyword will result in an error or misinterpretation.\n",
      "  warnings.warn(\n"
     ]
    },
    {
     "data": {
      "text/plain": [
       "<AxesSubplot:xlabel='Fare'>"
      ]
     },
     "execution_count": 22,
     "metadata": {},
     "output_type": "execute_result"
    },
    {
     "data": {
      "image/png": "[encoded data removed]",
      "text/plain": [
       "<Figure size 432x288 with 1 Axes>"
      ]
     },
     "metadata": {
      "needs_background": "light"
     },
     "output_type": "display_data"
    }
   ],
   "source": [
    "sns.boxplot(df['Fare'])"
   ]
  },
  {
   "cell_type": "code",
   "execution_count": 23,
   "metadata": {},
   "outputs": [
    {
     "name": "stderr",
     "output_type": "stream",
     "text": [
      "C:\\Users\\DELL\\anaconda3\\lib\\site-packages\\seaborn\\_decorators.py:36: FutureWarning: Pass the following variable as a keyword arg: x. From version 0.12, the only valid positional argument will be `data`, and passing other arguments without an explicit keyword will result in an error or misinterpretation.\n",
      "  warnings.warn(\n"
     ]
    },
    {
     "data": {
      "text/plain": [
       "<AxesSubplot:xlabel='Bag_Weight'>"
      ]
     },
     "execution_count": 23,
     "metadata": {},
     "output_type": "execute_result"
    },
    {
     "data": {
      "image/png": "[encoded data removed]",
      "text/plain": [
       "<Figure size 432x288 with 1 Axes>"
      ]
     },
     "metadata": {
      "needs_background": "light"
     },
     "output_type": "display_data"
    }
   ],
   "source": [
    "sns.boxplot(df['Bag_Weight'])"
   ]
  },
  {
   "cell_type": "markdown",
   "metadata": {},
   "source": [
    "*Since Data isn't normal we can check the coorelation as well.*"
   ]
  },
  {
   "cell_type": "code",
   "execution_count": 24,
   "metadata": {},
   "outputs": [
    {
     "data": {
      "text/html": [
       "<style type=\"text/css\">\n",
       "#T_3e947_row0_col0, #T_3e947_row1_col1, #T_3e947_row2_col2, #T_3e947_row3_col3, #T_3e947_row4_col4, #T_3e947_row5_col5, #T_3e947_row6_col6 {\n",
       "  background-color: #666666;\n",
       "  color: #f1f1f1;\n",
       "}\n",
       "#T_3e947_row0_col1, #T_3e947_row0_col2, #T_3e947_row0_col3, #T_3e947_row0_col4, #T_3e947_row1_col4, #T_3e947_row2_col0, #T_3e947_row2_col4, #T_3e947_row4_col1, #T_3e947_row4_col2, #T_3e947_row5_col1, #T_3e947_row5_col3, #T_3e947_row5_col4, #T_3e947_row6_col1, #T_3e947_row6_col2, #T_3e947_row6_col3, #T_3e947_row6_col4 {\n",
       "  background-color: #beaed4;\n",
       "  color: #000000;\n",
       "}\n",
       "#T_3e947_row0_col5, #T_3e947_row0_col6, #T_3e947_row1_col0, #T_3e947_row1_col2, #T_3e947_row1_col5, #T_3e947_row1_col6, #T_3e947_row2_col1, #T_3e947_row2_col5, #T_3e947_row2_col6, #T_3e947_row3_col0, #T_3e947_row3_col4, #T_3e947_row3_col5, #T_3e947_row3_col6, #T_3e947_row4_col0, #T_3e947_row4_col3, #T_3e947_row4_col5, #T_3e947_row4_col6, #T_3e947_row5_col0, #T_3e947_row5_col2, #T_3e947_row5_col6, #T_3e947_row6_col0, #T_3e947_row6_col5 {\n",
       "  background-color: #7fc97f;\n",
       "  color: #000000;\n",
       "}\n",
       "#T_3e947_row1_col3, #T_3e947_row2_col3, #T_3e947_row3_col1, #T_3e947_row3_col2 {\n",
       "  background-color: #fdc086;\n",
       "  color: #000000;\n",
       "}\n",
       "</style>\n",
       "<table id=\"T_3e947_\">\n",
       "  <thead>\n",
       "    <tr>\n",
       "      <th class=\"blank level0\" >&nbsp;</th>\n",
       "      <th class=\"col_heading level0 col0\" >Ticket_Refunded</th>\n",
       "      <th class=\"col_heading level0 col1\" >Bag_Weight</th>\n",
       "      <th class=\"col_heading level0 col2\" >Bag_Pieces</th>\n",
       "      <th class=\"col_heading level0 col3\" >Fare</th>\n",
       "      <th class=\"col_heading level0 col4\" >Days_to_Depart</th>\n",
       "      <th class=\"col_heading level0 col5\" >hrs_to_Depart</th>\n",
       "      <th class=\"col_heading level0 col6\" >min_to_Depart</th>\n",
       "    </tr>\n",
       "  </thead>\n",
       "  <tbody>\n",
       "    <tr>\n",
       "      <th id=\"T_3e947_level0_row0\" class=\"row_heading level0 row0\" >Ticket_Refunded</th>\n",
       "      <td id=\"T_3e947_row0_col0\" class=\"data row0 col0\" >1.000000</td>\n",
       "      <td id=\"T_3e947_row0_col1\" class=\"data row0 col1\" >-0.009616</td>\n",
       "      <td id=\"T_3e947_row0_col2\" class=\"data row0 col2\" >0.126804</td>\n",
       "      <td id=\"T_3e947_row0_col3\" class=\"data row0 col3\" >0.008094</td>\n",
       "      <td id=\"T_3e947_row0_col4\" class=\"data row0 col4\" >0.001365</td>\n",
       "      <td id=\"T_3e947_row0_col5\" class=\"data row0 col5\" >0.007362</td>\n",
       "      <td id=\"T_3e947_row0_col6\" class=\"data row0 col6\" >0.004974</td>\n",
       "    </tr>\n",
       "    <tr>\n",
       "      <th id=\"T_3e947_level0_row1\" class=\"row_heading level0 row1\" >Bag_Weight</th>\n",
       "      <td id=\"T_3e947_row1_col0\" class=\"data row1 col0\" >-0.009616</td>\n",
       "      <td id=\"T_3e947_row1_col1\" class=\"data row1 col1\" >1.000000</td>\n",
       "      <td id=\"T_3e947_row1_col2\" class=\"data row1 col2\" >-0.158285</td>\n",
       "      <td id=\"T_3e947_row1_col3\" class=\"data row1 col3\" >0.205553</td>\n",
       "      <td id=\"T_3e947_row1_col4\" class=\"data row1 col4\" >-0.012681</td>\n",
       "      <td id=\"T_3e947_row1_col5\" class=\"data row1 col5\" >0.013273</td>\n",
       "      <td id=\"T_3e947_row1_col6\" class=\"data row1 col6\" >0.009008</td>\n",
       "    </tr>\n",
       "    <tr>\n",
       "      <th id=\"T_3e947_level0_row2\" class=\"row_heading level0 row2\" >Bag_Pieces</th>\n",
       "      <td id=\"T_3e947_row2_col0\" class=\"data row2 col0\" >0.126804</td>\n",
       "      <td id=\"T_3e947_row2_col1\" class=\"data row2 col1\" >-0.158285</td>\n",
       "      <td id=\"T_3e947_row2_col2\" class=\"data row2 col2\" >1.000000</td>\n",
       "      <td id=\"T_3e947_row2_col3\" class=\"data row2 col3\" >0.171368</td>\n",
       "      <td id=\"T_3e947_row2_col4\" class=\"data row2 col4\" >0.000316</td>\n",
       "      <td id=\"T_3e947_row2_col5\" class=\"data row2 col5\" >-0.042212</td>\n",
       "      <td id=\"T_3e947_row2_col6\" class=\"data row2 col6\" >0.002214</td>\n",
       "    </tr>\n",
       "    <tr>\n",
       "      <th id=\"T_3e947_level0_row3\" class=\"row_heading level0 row3\" >Fare</th>\n",
       "      <td id=\"T_3e947_row3_col0\" class=\"data row3 col0\" >0.008094</td>\n",
       "      <td id=\"T_3e947_row3_col1\" class=\"data row3 col1\" >0.205553</td>\n",
       "      <td id=\"T_3e947_row3_col2\" class=\"data row3 col2\" >0.171368</td>\n",
       "      <td id=\"T_3e947_row3_col3\" class=\"data row3 col3\" >1.000000</td>\n",
       "      <td id=\"T_3e947_row3_col4\" class=\"data row3 col4\" >-0.201491</td>\n",
       "      <td id=\"T_3e947_row3_col5\" class=\"data row3 col5\" >-0.021389</td>\n",
       "      <td id=\"T_3e947_row3_col6\" class=\"data row3 col6\" >-0.006780</td>\n",
       "    </tr>\n",
       "    <tr>\n",
       "      <th id=\"T_3e947_level0_row4\" class=\"row_heading level0 row4\" >Days_to_Depart</th>\n",
       "      <td id=\"T_3e947_row4_col0\" class=\"data row4 col0\" >0.001365</td>\n",
       "      <td id=\"T_3e947_row4_col1\" class=\"data row4 col1\" >-0.012681</td>\n",
       "      <td id=\"T_3e947_row4_col2\" class=\"data row4 col2\" >0.000316</td>\n",
       "      <td id=\"T_3e947_row4_col3\" class=\"data row4 col3\" >-0.201491</td>\n",
       "      <td id=\"T_3e947_row4_col4\" class=\"data row4 col4\" >1.000000</td>\n",
       "      <td id=\"T_3e947_row4_col5\" class=\"data row4 col5\" >-0.001059</td>\n",
       "      <td id=\"T_3e947_row4_col6\" class=\"data row4 col6\" >0.010660</td>\n",
       "    </tr>\n",
       "    <tr>\n",
       "      <th id=\"T_3e947_level0_row5\" class=\"row_heading level0 row5\" >hrs_to_Depart</th>\n",
       "      <td id=\"T_3e947_row5_col0\" class=\"data row5 col0\" >0.007362</td>\n",
       "      <td id=\"T_3e947_row5_col1\" class=\"data row5 col1\" >0.013273</td>\n",
       "      <td id=\"T_3e947_row5_col2\" class=\"data row5 col2\" >-0.042212</td>\n",
       "      <td id=\"T_3e947_row5_col3\" class=\"data row5 col3\" >-0.021389</td>\n",
       "      <td id=\"T_3e947_row5_col4\" class=\"data row5 col4\" >-0.001059</td>\n",
       "      <td id=\"T_3e947_row5_col5\" class=\"data row5 col5\" >1.000000</td>\n",
       "      <td id=\"T_3e947_row5_col6\" class=\"data row5 col6\" >0.001985</td>\n",
       "    </tr>\n",
       "    <tr>\n",
       "      <th id=\"T_3e947_level0_row6\" class=\"row_heading level0 row6\" >min_to_Depart</th>\n",
       "      <td id=\"T_3e947_row6_col0\" class=\"data row6 col0\" >0.004974</td>\n",
       "      <td id=\"T_3e947_row6_col1\" class=\"data row6 col1\" >0.009008</td>\n",
       "      <td id=\"T_3e947_row6_col2\" class=\"data row6 col2\" >0.002214</td>\n",
       "      <td id=\"T_3e947_row6_col3\" class=\"data row6 col3\" >-0.006780</td>\n",
       "      <td id=\"T_3e947_row6_col4\" class=\"data row6 col4\" >0.010660</td>\n",
       "      <td id=\"T_3e947_row6_col5\" class=\"data row6 col5\" >0.001985</td>\n",
       "      <td id=\"T_3e947_row6_col6\" class=\"data row6 col6\" >1.000000</td>\n",
       "    </tr>\n",
       "  </tbody>\n",
       "</table>\n"
      ],
      "text/plain": [
       "<pandas.io.formats.style.Styler at 0x157715a8a00>"
      ]
     },
     "execution_count": 24,
     "metadata": {},
     "output_type": "execute_result"
    }
   ],
   "source": [
    "corr= df.corr(method='pearson')   # Correlation range from 1 to -1\n",
    "corr.style.background_gradient(cmap='Accent')"
   ]
  },
  {
   "cell_type": "markdown",
   "metadata": {},
   "source": [
    "**Result:** *Fare has slight Corelation between Bag_weight,Pieces,Days_to_Depart.* "
   ]
  },
  {
   "cell_type": "code",
   "execution_count": 25,
   "metadata": {},
   "outputs": [
    {
     "data": {
      "text/plain": [
       "<AxesSubplot:xlabel='Airline', ylabel='Fare'>"
      ]
     },
     "execution_count": 25,
     "metadata": {},
     "output_type": "execute_result"
    },
    {
     "data": {
      "image/png": "[encoded data removed]",
      "text/plain": [
       "<Figure size 432x288 with 1 Axes>"
      ]
     },
     "metadata": {
      "needs_background": "light"
     },
     "output_type": "display_data"
    }
   ],
   "source": [
    "sns.boxplot(data=df , x=\"Airline\",y='Fare')"
   ]
  },
  {
   "cell_type": "markdown",
   "metadata": {},
   "source": [
    "*Omega Has relatively Low Fare from Other Airlines but on the other hand they have low no. of flights*"
   ]
  },
  {
   "cell_type": "code",
   "execution_count": 26,
   "metadata": {},
   "outputs": [
    {
     "data": {
      "text/plain": [
       "alpha    2150\n",
       "gamma    1665\n",
       "beta      904\n",
       "omega     143\n",
       "Name: Airline, dtype: int64"
      ]
     },
     "execution_count": 26,
     "metadata": {},
     "output_type": "execute_result"
    }
   ],
   "source": [
    "df['Airline'].value_counts()"
   ]
  },
  {
   "cell_type": "code",
   "execution_count": 27,
   "metadata": {},
   "outputs": [
    {
     "data": {
      "text/plain": [
       "<AxesSubplot:xlabel='Airline', ylabel='Days_to_Depart'>"
      ]
     },
     "execution_count": 27,
     "metadata": {},
     "output_type": "execute_result"
    },
    {
     "data": {
      "image/png": "[encoded data removed]",
      "text/plain": [
       "<Figure size 432x288 with 1 Axes>"
      ]
     },
     "metadata": {
      "needs_background": "light"
     },
     "output_type": "display_data"
    }
   ],
   "source": [
    "sns.boxplot(data=df,x='Airline',y='Days_to_Depart')"
   ]
  },
  {
   "cell_type": "markdown",
   "metadata": {},
   "source": [
    "*Less Days for Omega flight to Departure.*"
   ]
  },
  {
   "cell_type": "markdown",
   "metadata": {},
   "source": [
    "### 5. **Applying Machine_Learning Models**"
   ]
  },
  {
   "cell_type": "markdown",
   "metadata": {},
   "source": [
    "#### ***Encoding***"
   ]
  },
  {
   "cell_type": "code",
   "execution_count": 28,
   "metadata": {},
   "outputs": [],
   "source": [
    "from sklearn.preprocessing import LabelEncoder  as le      # Importing Encoder"
   ]
  },
  {
   "cell_type": "code",
   "execution_count": 29,
   "metadata": {},
   "outputs": [
    {
     "name": "stderr",
     "output_type": "stream",
     "text": [
      "C:\\Users\\DELL\\AppData\\Local\\Temp/ipykernel_9348/3008734118.py:1: SettingWithCopyWarning: \n",
      "A value is trying to be set on a copy of a slice from a DataFrame.\n",
      "Try using .loc[row_indexer,col_indexer] = value instead\n",
      "\n",
      "See the caveats in the documentation: https://pandas.pydata.org/pandas-docs/stable/user_guide/indexing.html#returning-a-view-versus-a-copy\n",
      "  df['Airline'] = le().fit_transform(df['Airline'])\n",
      "C:\\Users\\DELL\\AppData\\Local\\Temp/ipykernel_9348/3008734118.py:2: SettingWithCopyWarning: \n",
      "A value is trying to be set on a copy of a slice from a DataFrame.\n",
      "Try using .loc[row_indexer,col_indexer] = value instead\n",
      "\n",
      "See the caveats in the documentation: https://pandas.pydata.org/pandas-docs/stable/user_guide/indexing.html#returning-a-view-versus-a-copy\n",
      "  df['Ticket_Refunded'] = le().fit_transform(df['Ticket_Refunded'])\n"
     ]
    }
   ],
   "source": [
    "df['Airline'] = le().fit_transform(df['Airline'])\n",
    "df['Ticket_Refunded'] = le().fit_transform(df['Ticket_Refunded'])\n",
    "\n",
    "df1['Airline'] = le().fit_transform(df1['Airline'])\n",
    "df1['Ticket_Refunded'] = le().fit_transform(df1['Ticket_Refunded'])"
   ]
  },
  {
   "cell_type": "markdown",
   "metadata": {},
   "source": [
    "#### ***Splittin into X and Y***"
   ]
  },
  {
   "cell_type": "code",
   "execution_count": 35,
   "metadata": {},
   "outputs": [],
   "source": [
    "X= df[['Airline','Ticket_Refunded','Bag_Weight','Bag_Pieces','Days_to_Depart']]\n",
    "y= df['Fare']"
   ]
  },
  {
   "cell_type": "code",
   "execution_count": 43,
   "metadata": {},
   "outputs": [
    {
     "data": {
      "text/plain": [
       "(4862, 5)"
      ]
     },
     "execution_count": 43,
     "metadata": {},
     "output_type": "execute_result"
    }
   ],
   "source": [
    "X.shape"
   ]
  },
  {
   "cell_type": "code",
   "execution_count": 46,
   "metadata": {},
   "outputs": [],
   "source": [
    "# Making df1 Data_Frame equal ot our test data_frame\n",
    "df1 = df1.sample(4862)"
   ]
  },
  {
   "cell_type": "markdown",
   "metadata": {},
   "source": [
    "### ***Machine Learning Modeling***"
   ]
  },
  {
   "cell_type": "code",
   "execution_count": 38,
   "metadata": {},
   "outputs": [],
   "source": [
    "# Importing Models\n",
    "from sklearn.linear_model import LinearRegression \n",
    "from sklearn.tree import DecisionTreeRegressor \n",
    "from sklearn.neighbors import KNeighborsRegressor \n",
    "from sklearn.svm import SVR \n",
    "from sklearn.model_selection import train_test_split\n",
    "from sklearn.metrics import r2_score,mean_squared_error,mean_absolute_error\n",
    "\n",
    "\n",
    "\n",
    "lr = LinearRegression()\n",
    "dt = DecisionTreeRegressor()\n",
    "knn = KNeighborsRegressor()\n",
    "svr =  SVR()\n"
   ]
  },
  {
   "cell_type": "markdown",
   "metadata": {},
   "source": [
    "For Root Mean Square Error Calculation: `rms= mean_squared_error(y_test,y_pred, squared=False)`"
   ]
  },
  {
   "cell_type": "markdown",
   "metadata": {},
   "source": [
    "#### ***Model Looping on basis of scores*** "
   ]
  },
  {
   "cell_type": "code",
   "execution_count": 49,
   "metadata": {},
   "outputs": [
    {
     "name": "stdout",
     "output_type": "stream",
     "text": [
      "LinearRegression()\n",
      "R2 Score:  0.10547921095416168\n",
      "Mean Absolute Error:  0.2122923677014548\n",
      "Mean Squared Error:  0.07176990758010106\n",
      "Root Mean Square Error:  0.267899062297913\n",
      "DecisionTreeRegressor()\n",
      "R2 Score:  0.15930249220685377\n",
      "Mean Absolute Error:  0.20035778289079834\n",
      "Mean Squared Error:  0.06745151501900257\n",
      "Root Mean Square Error:  0.25971429498393533\n",
      "KNeighborsRegressor()\n",
      "R2 Score:  0.0945102126138806\n",
      "Mean Absolute Error:  0.20788484597682222\n",
      "Mean Squared Error:  0.07264998103034248\n",
      "Root Mean Square Error:  0.2695366042494831\n",
      "SVR()\n",
      "R2 Score:  0.1512109899683831\n",
      "Mean Absolute Error:  0.20027447017020497\n",
      "Mean Squared Error:  0.0681007188999528\n",
      "Root Mean Square Error:  0.26096114442566504\n"
     ]
    }
   ],
   "source": [
    "X_train,X_test,y_train,y_test =train_test_split(X, y, test_size=0.2, random_state=42)               # Random sample of 42 from dataset\n",
    "\n",
    "\n",
    "for i in [lr,dt,knn,svr]:                           # Reading all Models\n",
    "        i.fit(X_train,y_train)                      # Fitting the Models\n",
    "        pred = i.predict(X_test)                    # Predicting the values\n",
    "        test_score = r2_score(y_test, pred)         # test score\n",
    "        train_score =  r2_score(y_train, i.predict(X_train))        # train score\n",
    "        if abs(train_score-test_score) <= 0.1:\n",
    "            print(i)\n",
    "            print('R2 Score: ', r2_score(y_test,pred))\n",
    "            print('Mean Absolute Error: ', mean_absolute_error(y_test,pred))\n",
    "            print('Mean Squared Error: ', mean_squared_error(y_test,pred))\n",
    "            print('Root Mean Square Error: ', mean_squared_error(y_test,pred, squared=False))\n",
    "\n"
   ]
  },
  {
   "cell_type": "markdown",
   "metadata": {},
   "source": [
    "#### ***Final prediciton on given values for Linear Regression***"
   ]
  },
  {
   "cell_type": "code",
   "execution_count": 54,
   "metadata": {},
   "outputs": [],
   "source": [
    "lr = LinearRegression().fit(X,y)                    # Fitting Original X and y\n",
    "pred = lr.predict(df1)\n",
    "\n",
    "# To save the predicted model\n",
    "res = pd.DataFrame(pred)\n",
    "res.index = X.index        # it's important for comparison\n",
    "res.columns = ['Prediction']\n",
    "res.to_csv('Prediction_results.csv')"
   ]
  },
  {
   "cell_type": "code",
   "execution_count": 59,
   "metadata": {},
   "outputs": [
    {
     "data": {
      "text/html": [
       "<div>\n",
       "<style scoped>\n",
       "    .dataframe tbody tr th:only-of-type {\n",
       "        vertical-align: middle;\n",
       "    }\n",
       "\n",
       "    .dataframe tbody tr th {\n",
       "        vertical-align: top;\n",
       "    }\n",
       "\n",
       "    .dataframe thead th {\n",
       "        text-align: right;\n",
       "    }\n",
       "</style>\n",
       "<table border=\"1\" class=\"dataframe\">\n",
       "  <thead>\n",
       "    <tr style=\"text-align: right;\">\n",
       "      <th></th>\n",
       "      <th>Unnamed: 0</th>\n",
       "      <th>Prediction</th>\n",
       "    </tr>\n",
       "  </thead>\n",
       "  <tbody>\n",
       "    <tr>\n",
       "      <th>0</th>\n",
       "      <td>0</td>\n",
       "      <td>9.216961</td>\n",
       "    </tr>\n",
       "    <tr>\n",
       "      <th>1</th>\n",
       "      <td>1</td>\n",
       "      <td>9.231523</td>\n",
       "    </tr>\n",
       "    <tr>\n",
       "      <th>2</th>\n",
       "      <td>2</td>\n",
       "      <td>9.235742</td>\n",
       "    </tr>\n",
       "    <tr>\n",
       "      <th>3</th>\n",
       "      <td>3</td>\n",
       "      <td>9.274688</td>\n",
       "    </tr>\n",
       "    <tr>\n",
       "      <th>4</th>\n",
       "      <td>4</td>\n",
       "      <td>9.226712</td>\n",
       "    </tr>\n",
       "  </tbody>\n",
       "</table>\n",
       "</div>"
      ],
      "text/plain": [
       "   Unnamed: 0  Prediction\n",
       "0           0    9.216961\n",
       "1           1    9.231523\n",
       "2           2    9.235742\n",
       "3           3    9.274688\n",
       "4           4    9.226712"
      ]
     },
     "execution_count": 59,
     "metadata": {},
     "output_type": "execute_result"
    }
   ],
   "source": [
    "df3 = pd.read_csv('Prediction_results.csv')         # Reading Predicted File\n",
    "df3.head()"
   ]
  },
  {
   "cell_type": "code",
   "execution_count": 61,
   "metadata": {},
   "outputs": [],
   "source": [
    "df3['Prediction']=np.exp(df3['Prediction'])         # Converting to Original Values\n"
   ]
  },
  {
   "cell_type": "code",
   "execution_count": 62,
   "metadata": {},
   "outputs": [
    {
     "data": {
      "text/html": [
       "<div>\n",
       "<style scoped>\n",
       "    .dataframe tbody tr th:only-of-type {\n",
       "        vertical-align: middle;\n",
       "    }\n",
       "\n",
       "    .dataframe tbody tr th {\n",
       "        vertical-align: top;\n",
       "    }\n",
       "\n",
       "    .dataframe thead th {\n",
       "        text-align: right;\n",
       "    }\n",
       "</style>\n",
       "<table border=\"1\" class=\"dataframe\">\n",
       "  <thead>\n",
       "    <tr style=\"text-align: right;\">\n",
       "      <th></th>\n",
       "      <th>Unnamed: 0</th>\n",
       "      <th>Prediction</th>\n",
       "    </tr>\n",
       "  </thead>\n",
       "  <tbody>\n",
       "    <tr>\n",
       "      <th>0</th>\n",
       "      <td>0</td>\n",
       "      <td>10066.427445</td>\n",
       "    </tr>\n",
       "    <tr>\n",
       "      <th>1</th>\n",
       "      <td>1</td>\n",
       "      <td>10214.085345</td>\n",
       "    </tr>\n",
       "    <tr>\n",
       "      <th>2</th>\n",
       "      <td>2</td>\n",
       "      <td>10257.273918</td>\n",
       "    </tr>\n",
       "    <tr>\n",
       "      <th>3</th>\n",
       "      <td>3</td>\n",
       "      <td>10664.632967</td>\n",
       "    </tr>\n",
       "    <tr>\n",
       "      <th>4</th>\n",
       "      <td>4</td>\n",
       "      <td>10165.067578</td>\n",
       "    </tr>\n",
       "  </tbody>\n",
       "</table>\n",
       "</div>"
      ],
      "text/plain": [
       "   Unnamed: 0    Prediction\n",
       "0           0  10066.427445\n",
       "1           1  10214.085345\n",
       "2           2  10257.273918\n",
       "3           3  10664.632967\n",
       "4           4  10165.067578"
      ]
     },
     "execution_count": 62,
     "metadata": {},
     "output_type": "execute_result"
    }
   ],
   "source": [
    "df3.head()"
   ]
  },
  {
   "cell_type": "code",
   "execution_count": 64,
   "metadata": {},
   "outputs": [],
   "source": [
    "df3.to_csv('Without_log_pred.csv')          # Original Values CSV"
   ]
  },
  {
   "cell_type": "markdown",
   "metadata": {},
   "source": [
    "---"
   ]
  },
  {
   "cell_type": "markdown",
   "metadata": {},
   "source": [
    "# **The End**"
   ]
  }
 ],
 "metadata": {
  "kernelspec": {
   "display_name": "Python 3.10.1 64-bit",
   "language": "python",
   "name": "python3"
  },
  "language_info": {
   "codemirror_mode": {
    "name": "ipython",
    "version": 3
   },
   "file_extension": ".py",
   "mimetype": "text/x-python",
   "name": "python",
   "nbconvert_exporter": "python",
   "pygments_lexer": "ipython3",
   "version": "3.10.1"
  },
  "orig_nbformat": 4,
  "vscode": {
   "interpreter": {
    "hash": "63963b3f4c440940f0b94a3100916033a226cb4f45979123153792d60aa56d6a"
   }
  }
 },
 "nbformat": 4,
 "nbformat_minor": 2
}
